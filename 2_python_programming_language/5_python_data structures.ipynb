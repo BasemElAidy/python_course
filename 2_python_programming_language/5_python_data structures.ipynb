{
 "cells": [
  {
   "cell_type": "markdown",
   "metadata": {},
   "source": [
    "## Python List\n",
    "\n",
    "```Lists are just like the arrays, declared in other languages. Lists need not be homogeneous always which makes it a most powerful tool in Python. A single list may contain DataTypes like Integers, Strings, as well as Objects. Lists are mutable, and hence, they can be altered even after their creation```"
   ]
  },
  {
   "cell_type": "markdown",
   "metadata": {},
   "source": [
    "#### Creating a List"
   ]
  },
  {
   "cell_type": "code",
   "execution_count": 3,
   "metadata": {},
   "outputs": [
    {
     "name": "stdout",
     "output_type": "stream",
     "text": [
      "Intial blank List: \n",
      "[]\n",
      "List with multible datatypes\n",
      "['a', 1, -10, 0.8]\n",
      "List containing multiple values: \n",
      "hello\n",
      "everybody\n",
      "Multi-Dimensional List: \n",
      "[['a', 800], ['Geeks']]\n"
     ]
    }
   ],
   "source": [
    "# Python program to demonstrate \n",
    "# Creation of List \n",
    "\n",
    "# Creating a List \n",
    "List = [] \n",
    "print(\"Intial blank List: \") \n",
    "print(List) \n",
    "\n",
    "# Creating a List with \n",
    "# the use of a String \n",
    "List = ['a',1,-10,0.8] \n",
    "print(\"List with multible datatypes\") \n",
    "print(List) \n",
    "\n",
    "# Creating a List with \n",
    "# the use of multiple values \n",
    "List = [\"hello\", \"everybody\"] \n",
    "print(\"List containing multiple values: \") \n",
    "print(List[0]) # access first element\n",
    "print(List[1]) # access second element\n",
    "\n",
    "# Creating a Multi-Dimensional List \n",
    "# (By Nesting a list inside a List) \n",
    "List = [['a', 800] , ['Geeks']] \n",
    "print(\"Multi-Dimensional List: \") \n",
    "print(List)"
   ]
  },
  {
   "cell_type": "markdown",
   "metadata": {},
   "source": [
    "#### list elements access"
   ]
  },
  {
   "cell_type": "code",
   "execution_count": 12,
   "metadata": {},
   "outputs": [
    {
     "name": "stdout",
     "output_type": "stream",
     "text": [
      "Accessing a element from the list\n",
      "python\n",
      "1.8\n",
      "Acessing a element from a Multi-Dimensional list\n",
      "world\n",
      "100\n"
     ]
    }
   ],
   "source": [
    "# Python program to demonstrate \n",
    "# accessing of element from list \n",
    "\n",
    "# Creating a List with \n",
    "# the use of multiple values \n",
    "List = [\"python\", 100, 1.8] \n",
    "\n",
    "# accessing a element from the \n",
    "# list using index number \n",
    "print(\"Accessing a element from the list\") \n",
    "print(List[0]) \n",
    "print(List[2]) \n",
    "\n",
    "# Creating a Multi-Dimensional List \n",
    "# (By Nesting a list inside a List) \n",
    "List = [['hello', 'world'] , [100,-100]] \n",
    "\n",
    "# accessing a element from the \n",
    "# Multi-Dimensional List using \n",
    "# index number \n",
    "print(\"Acessing a element from a Multi-Dimensional list\") \n",
    "print(List[0][1]) \n",
    "print(List[1][0])"
   ]
  },
  {
   "cell_type": "code",
   "execution_count": 4,
   "metadata": {},
   "outputs": [
    {
     "name": "stdout",
     "output_type": "stream",
     "text": [
      "a\n",
      "0.8\n",
      "-10\n"
     ]
    }
   ],
   "source": [
    "# elements in list can be accessed forward and backward\n",
    "List = ['a',1,-10,0.8]\n",
    "print(List[0])\n",
    "print(List[-1])\n",
    "print(List[-2])"
   ]
  },
  {
   "cell_type": "code",
   "execution_count": 5,
   "metadata": {},
   "outputs": [
    {
     "name": "stdout",
     "output_type": "stream",
     "text": [
      "4\n"
     ]
    }
   ],
   "source": [
    "# we can apply len() function to get number of elements in the list\n",
    "print(len(List))"
   ]
  },
  {
   "cell_type": "markdown",
   "metadata": {},
   "source": [
    "#### Adding Elements to a List"
   ]
  },
  {
   "cell_type": "code",
   "execution_count": 8,
   "metadata": {},
   "outputs": [
    {
     "name": "stdout",
     "output_type": "stream",
     "text": [
      "Initial blank List: \n",
      "[]\n",
      "List after Addition of Three elements: \n",
      "[1, 2, 4]\n",
      "List after Addition of elements from 1-3: \n",
      "[1, 2, 4, 1, 2, 3]\n",
      "List after Addition of a List: \n",
      "[1, 2, 4, 1, 2, 3, ['data', 'science']]\n"
     ]
    }
   ],
   "source": [
    "# Adding Elements to a List\n",
    "# Python program to demonstrate \n",
    "# Addition of elements in a List \n",
    "\n",
    "# Creating a List \n",
    "List = [] \n",
    "print(\"Initial blank List: \") \n",
    "print(List) \n",
    "\n",
    "# Addition of Elements \n",
    "# in the List \n",
    "List.append(1) \n",
    "List.append(2) \n",
    "List.append(4) \n",
    "print(\"List after Addition of Three elements: \") \n",
    "print(List) \n",
    "\n",
    "# Adding elements to the List \n",
    "for i in range(1, 4): \n",
    "    List.append(i) \n",
    "print(\"List after Addition of elements from 1-3: \") \n",
    "print(List) \n",
    "\n",
    "# Addition of List to a List \n",
    "List2 = ['data', 'science'] \n",
    "List.append(List2) \n",
    "print(\"List after Addition of a List: \") \n",
    "print(List)"
   ]
  },
  {
   "cell_type": "code",
   "execution_count": 10,
   "metadata": {},
   "outputs": [
    {
     "name": "stdout",
     "output_type": "stream",
     "text": [
      "Initial List: \n",
      "[1, 2, 3, 4]\n",
      "List after performing Insert Operation: \n",
      "['hello', 1, 2, 3, 12, 4]\n"
     ]
    }
   ],
   "source": [
    "# append() method only works for addition of elements at the end of the List, \n",
    "# for addition of element at the desired position, insert() method is used. \n",
    "# Unlike append() which takes only one argument, insert() method requires two arguments(position, value)\n",
    "\n",
    "# Python program to demonstrate \n",
    "# Addition of elements in a List \n",
    "\n",
    "# Creating a List \n",
    "List = [1,2,3,4] \n",
    "print(\"Initial List: \") \n",
    "print(List) \n",
    "\n",
    "# Addition of Element at \n",
    "# specific Position \n",
    "# (using Insert Method) \n",
    "List.insert(3, 12) # at position 3 insert \n",
    "List.insert(0, 'hello') \n",
    "print(\"List after performing Insert Operation: \") \n",
    "print(List)"
   ]
  },
  {
   "cell_type": "code",
   "execution_count": 11,
   "metadata": {},
   "outputs": [
    {
     "name": "stdout",
     "output_type": "stream",
     "text": [
      "Initial List: \n",
      "[1, 2, 3, 4]\n",
      "List after performing Extend Operation: \n",
      "[1, 2, 3, 4, 8, 'python', -0.8]\n"
     ]
    }
   ],
   "source": [
    "'''\n",
    "Other than append() and insert() methods, there’s one more method for Addition of elements, extend(), \n",
    "this method is used to add multiple elements at the same time at the end of the list\n",
    "'''\n",
    "# Python program to demonstrate \n",
    "# Addition of elements in a List \n",
    "\n",
    "# Creating a List \n",
    "List = [1,2,3,4] \n",
    "print(\"Initial List: \") \n",
    "print(List) \n",
    "\n",
    "# Addition of multiple elements \n",
    "# to the List at the end \n",
    "# (using Extend Method) \n",
    "List.extend([8, 'python', -0.8]) \n",
    "print(\"List after performing Extend Operation: \") \n",
    "print(List)\n",
    "\n",
    "# quiz try use append instead of extend and check results"
   ]
  },
  {
   "cell_type": "markdown",
   "metadata": {},
   "source": [
    "#### Removing Elements from the List"
   ]
  },
  {
   "cell_type": "code",
   "execution_count": 14,
   "metadata": {},
   "outputs": [
    {
     "name": "stdout",
     "output_type": "stream",
     "text": [
      "Intial List: \n",
      "[1, 2, 3, 4, 5, 6, 7, 8, 9, 10, 11, 12]\n",
      "List after Removal of two elements: \n",
      "[1, 2, 3, 4, 7, 8, 9, 10, 11, 12]\n",
      "List after Removing a range of elements: \n",
      "[7, 8, 9, 10, 11, 12]\n"
     ]
    }
   ],
   "source": [
    "# Python program to demonstrate \n",
    "# Removal of elements in a List \n",
    "\n",
    "# Creating a List \n",
    "List = [1, 2, 3, 4, 5, 6, 7, 8, 9, 10, 11, 12] \n",
    "print(\"Intial List: \") \n",
    "print(List) \n",
    "\n",
    "# Removing elements from List \n",
    "# using Remove() method \n",
    "List.remove(5) # item to be removed is 5\n",
    "List.remove(6) # item to be removed is 6\n",
    "print(\"List after Removal of two elements: \") \n",
    "print(List) \n",
    "\n",
    "# Removing elements from List \n",
    "# using iterator method \n",
    "for i in range(1, 5): \n",
    "    List.remove(i) \n",
    "print(\"List after Removing a range of elements: \") \n",
    "print(List)"
   ]
  },
  {
   "cell_type": "code",
   "execution_count": 15,
   "metadata": {},
   "outputs": [
    {
     "name": "stdout",
     "output_type": "stream",
     "text": [
      "List after popping an element: \n",
      "[1, 2, 3, 4]\n",
      "List after popping a specific element: \n",
      "[1, 2, 4]\n"
     ]
    }
   ],
   "source": [
    "# pop() removes the item at a specific index and returns it.\n",
    "List = [1,2,3,4,5] \n",
    "\n",
    "# Removing element from the \n",
    "# Set using the pop() method \n",
    "List.pop() # if no index is passed pop() will remove last element\n",
    "print(\"List after popping an element: \") \n",
    "print(List) \n",
    "\n",
    "# Removing element at a \n",
    "# specific location from the \n",
    "# Set using the pop() method \n",
    "List.pop(2) # remove element ata index 2 \n",
    "print(\"List after popping a specific element: \") \n",
    "print(List) "
   ]
  },
  {
   "cell_type": "markdown",
   "metadata": {},
   "source": [
    "#### Slicing of a List\n",
    "\n",
    "![img](../images/List-Slicing.jpg)"
   ]
  },
  {
   "cell_type": "code",
   "execution_count": 16,
   "metadata": {},
   "outputs": [
    {
     "name": "stdout",
     "output_type": "stream",
     "text": [
      "Intial List: \n",
      "['G', 'E', 'E', 'K', 'S', 'F', 'O', 'R', 'G', 'E', 'E', 'K', 'S']\n",
      "Slicing elements in a range 3-8: \n",
      "['K', 'S', 'F', 'O', 'R']\n",
      "Elements sliced from 5th element till the end: \n",
      "['F', 'O', 'R', 'G', 'E', 'E', 'K', 'S']\n",
      "Printing all elements using slice operation: \n",
      "['G', 'E', 'E', 'K', 'S', 'F', 'O', 'R', 'G', 'E', 'E', 'K', 'S']\n"
     ]
    }
   ],
   "source": [
    "# Python program to demonstrate \n",
    "# Removal of elements in a List \n",
    "\n",
    "# Creating a List \n",
    "List = ['G','E','E','K','S','F','O','R','G','E','E','K','S'] \n",
    "print(\"Intial List: \") \n",
    "print(List) \n",
    "\n",
    "# Print elements of a range \n",
    "# using Slice operation \n",
    "Sliced_List = List[3:8] \n",
    "print(\"Slicing elements in a range 3-8: \") \n",
    "print(Sliced_List) \n",
    "\n",
    "# Print elements from a \n",
    "# pre-defined point to end \n",
    "Sliced_List = List[5:] \n",
    "print(\"Elements sliced from 5th element till the end: \") \n",
    "print(Sliced_List) \n",
    "\n",
    "# Printing elements from \n",
    "# beginning till end \n",
    "Sliced_List = List[:] \n",
    "print(\"Printing all elements using slice operation: \") \n",
    "print(Sliced_List)"
   ]
  },
  {
   "cell_type": "markdown",
   "metadata": {},
   "source": [
    "## Python Tuples\n",
    "`Tuple is a collection of Python objects much like a list. The sequence of values stored in a tuple can be of any type, and they are indexed by integers`"
   ]
  },
  {
   "cell_type": "code",
   "execution_count": 1,
   "metadata": {},
   "outputs": [
    {
     "name": "stdout",
     "output_type": "stream",
     "text": [
      "Initial empty Tuple: \n",
      "()\n",
      "Tuple with the use of String: \n",
      "('data', 'science')\n",
      "Tuple using List: \n",
      "(1, 2, 4, 5, 6)\n",
      "Tuple with the use of function: \n",
      "('h', 'e', 'l', 'l', 'o')\n"
     ]
    }
   ],
   "source": [
    "#Creating an empty Tuple \n",
    "Tuple1 = () \n",
    "print(\"Initial empty Tuple: \") \n",
    "print (Tuple1) \n",
    "\n",
    "#Creatting a Tuple \n",
    "#with the use of string \n",
    "Tuple1 = ('data', 'science') \n",
    "print(\"Tuple with the use of String: \") \n",
    "print(Tuple1) \n",
    "\n",
    "# Creating a Tuple with \n",
    "# the use of list \n",
    "list1 = [1, 2, 4, 5, 6] \n",
    "print(\"Tuple using List: \") \n",
    "print(tuple(list1)) \n",
    "\n",
    "#Creating a Tuple \n",
    "#with the use of built-in function \n",
    "Tuple1 = tuple('hello') \n",
    "print(\"Tuple with the use of function: \") \n",
    "print(Tuple1) "
   ]
  },
  {
   "cell_type": "code",
   "execution_count": 4,
   "metadata": {},
   "outputs": [
    {
     "name": "stdout",
     "output_type": "stream",
     "text": [
      "Tuple with Mixed Datatypes: \n",
      "(5, 'Welcome', 7, 'python')\n",
      "Tuple with nested tuples: \n",
      "((0, 1, 2, 3), ('python', 'geek'))\n",
      "Tuple with repetition: \n",
      "GeeksGeeksGeeks\n"
     ]
    }
   ],
   "source": [
    "#Creating a Tuple \n",
    "#with Mixed Datatype \n",
    "Tuple1 = (5, 'Welcome', 7, 'python') \n",
    "print(\"Tuple with Mixed Datatypes: \") \n",
    "print(Tuple1) \n",
    "\n",
    "#Creating a Tuple \n",
    "#with nested tuples \n",
    "Tuple1 = (0, 1, 2, 3) \n",
    "Tuple2 = ('python', 'geek') \n",
    "Tuple3 = (Tuple1, Tuple2) \n",
    "print(\"Tuple with nested tuples: \") \n",
    "print(Tuple3) \n",
    "\n",
    "#Creating a Tuple \n",
    "#with repetition \n",
    "Tuple1 = ('Geeks') * 3\n",
    "print(\"Tuple with repetition: \") \n",
    "print(Tuple1) "
   ]
  },
  {
   "cell_type": "markdown",
   "metadata": {},
   "source": [
    "`Tuples are immutable, and usually, they contain a sequence of heterogeneous elements that are accessed via unpacking or indexing (or even by attribute in the case of named tuples). Lists are mutable, and their elements are usually homogeneous and are accessed by iterating over the list`"
   ]
  },
  {
   "cell_type": "code",
   "execution_count": 6,
   "metadata": {},
   "outputs": [
    {
     "name": "stdout",
     "output_type": "stream",
     "text": [
      "First element of Tuple: \n",
      "e s\n"
     ]
    },
    {
     "ename": "TypeError",
     "evalue": "'tuple' object does not support item assignment",
     "output_type": "error",
     "traceback": [
      "\u001b[0;31m---------------------------------------------------------------------------\u001b[0m",
      "\u001b[0;31mTypeError\u001b[0m                                 Traceback (most recent call last)",
      "\u001b[0;32m<ipython-input-6-9dcb651505e9>\u001b[0m in \u001b[0;36m<module>\u001b[0;34m()\u001b[0m\n\u001b[1;32m      6\u001b[0m \u001b[0;34m\u001b[0m\u001b[0m\n\u001b[1;32m      7\u001b[0m \u001b[0;31m# we can not change values inside tuple\u001b[0m\u001b[0;34m\u001b[0m\u001b[0;34m\u001b[0m\u001b[0;34m\u001b[0m\u001b[0m\n\u001b[0;32m----> 8\u001b[0;31m \u001b[0mTuple1\u001b[0m\u001b[0;34m[\u001b[0m\u001b[0;36m0\u001b[0m\u001b[0;34m]\u001b[0m\u001b[0;34m=\u001b[0m\u001b[0;34m'r'\u001b[0m\u001b[0;34m\u001b[0m\u001b[0;34m\u001b[0m\u001b[0m\n\u001b[0m\u001b[1;32m      9\u001b[0m \u001b[0mprint\u001b[0m\u001b[0;34m(\u001b[0m\u001b[0mTuple1\u001b[0m\u001b[0;34m)\u001b[0m\u001b[0;34m\u001b[0m\u001b[0;34m\u001b[0m\u001b[0m\n",
      "\u001b[0;31mTypeError\u001b[0m: 'tuple' object does not support item assignment"
     ]
    }
   ],
   "source": [
    "#Accessing Tuple \n",
    "#with Indexing \n",
    "Tuple1 = tuple(\"Geeks\") \n",
    "print(\"First element of Tuple: \") \n",
    "print(Tuple1[1],Tuple1[-1]) \n",
    "\n",
    "# we can not change values inside tuple\n",
    "Tuple1[0]='r'\n",
    "print(Tuple1)"
   ]
  },
  {
   "cell_type": "markdown",
   "metadata": {},
   "source": [
    "`Slicing of a Tuple is done to fetch a specific range or slice of sub-elements from a Tuple. Slicing can also be done to lists and arrays. Indexing in a list results to fetching a single element whereas Slicing allows to fetch a set of elements`"
   ]
  },
  {
   "cell_type": "code",
   "execution_count": 7,
   "metadata": {},
   "outputs": [
    {
     "data": {
      "text/plain": [
       "'\\n# Slicing of a Tuple \\n\\n# Slicing of a Tuple \\n# with Numbers \\nTuple1 = tuple(\\'GEEKSFORGEEKS\\') \\n\\n# Removing First element \\nprint(\"Removal of First Element: \") \\nprint(Tuple1[1:]) \\n\\n# Reversing the Tuple \\nprint(\"Tuple after sequence of Element is reversed: \") \\nprint(Tuple1[::-1]) \\n\\n# Printing elements of a Range \\nprint(\"Printing elements between Range 4-9: \") \\nprint(Tuple1[4:9])\\n'"
      ]
     },
     "execution_count": 7,
     "metadata": {},
     "output_type": "execute_result"
    }
   ],
   "source": [
    "# QUIZ what is the ouptut of the following program\n",
    "'''\n",
    "# Slicing of a Tuple \n",
    "\n",
    "# Slicing of a Tuple \n",
    "# with Numbers \n",
    "Tuple1 = tuple('GEEKSFORGEEKS') \n",
    "\n",
    "# Removing First element \n",
    "print(\"Removal of First Element: \") \n",
    "print(Tuple1[1:]) \n",
    "\n",
    "# Reversing the Tuple \n",
    "print(\"Tuple after sequence of Element is reversed: \") \n",
    "print(Tuple1[::-1]) \n",
    "\n",
    "# Printing elements of a Range \n",
    "print(\"Printing elements between Range 4-9: \") \n",
    "print(Tuple1[4:9])\n",
    "'''"
   ]
  },
  {
   "cell_type": "markdown",
   "metadata": {},
   "source": [
    "`also unlike lists where we can delete elements , we can not delete any elements from the tuble`"
   ]
  },
  {
   "cell_type": "code",
   "execution_count": 8,
   "metadata": {},
   "outputs": [
    {
     "ename": "TypeError",
     "evalue": "'tuple' object doesn't support item deletion",
     "output_type": "error",
     "traceback": [
      "\u001b[0;31m---------------------------------------------------------------------------\u001b[0m",
      "\u001b[0;31mTypeError\u001b[0m                                 Traceback (most recent call last)",
      "\u001b[0;32m<ipython-input-8-ccefdba17d41>\u001b[0m in \u001b[0;36m<module>\u001b[0;34m()\u001b[0m\n\u001b[1;32m      2\u001b[0m \u001b[0;34m\u001b[0m\u001b[0m\n\u001b[1;32m      3\u001b[0m \u001b[0mTuple1\u001b[0m \u001b[0;34m=\u001b[0m \u001b[0;34m(\u001b[0m\u001b[0;36m0\u001b[0m\u001b[0;34m,\u001b[0m \u001b[0;36m1\u001b[0m\u001b[0;34m,\u001b[0m \u001b[0;36m2\u001b[0m\u001b[0;34m,\u001b[0m \u001b[0;36m3\u001b[0m\u001b[0;34m,\u001b[0m \u001b[0;36m4\u001b[0m\u001b[0;34m)\u001b[0m\u001b[0;34m\u001b[0m\u001b[0;34m\u001b[0m\u001b[0m\n\u001b[0;32m----> 4\u001b[0;31m \u001b[0;32mdel\u001b[0m \u001b[0mTuple1\u001b[0m\u001b[0;34m[\u001b[0m\u001b[0;36m0\u001b[0m\u001b[0;34m]\u001b[0m\u001b[0;34m\u001b[0m\u001b[0;34m\u001b[0m\u001b[0m\n\u001b[0m\u001b[1;32m      5\u001b[0m \u001b[0mprint\u001b[0m\u001b[0;34m(\u001b[0m\u001b[0mTuple1\u001b[0m\u001b[0;34m)\u001b[0m\u001b[0;34m\u001b[0m\u001b[0;34m\u001b[0m\u001b[0m\n",
      "\u001b[0;31mTypeError\u001b[0m: 'tuple' object doesn't support item deletion"
     ]
    }
   ],
   "source": [
    "# Deleting a Tuple \n",
    "\n",
    "Tuple1 = (0, 1, 2, 3, 4) \n",
    "del Tuple1[0]\n",
    "print(Tuple1)"
   ]
  },
  {
   "cell_type": "markdown",
   "metadata": {},
   "source": [
    "## Python Dictionary\n",
    "\n",
    "`dictionary in python in key,value pair`"
   ]
  },
  {
   "cell_type": "code",
   "execution_count": 9,
   "metadata": {},
   "outputs": [
    {
     "name": "stdout",
     "output_type": "stream",
     "text": [
      "Dictionary with the use of Integer Keys: \n",
      "{1: 'Geeks', 2: 'For', 3: 'Geeks'}\n",
      "Dictionary with the use of Mixed Keys: \n",
      "{'Name': 'Geeks', 1: [1, 2, 3, 4]}\n"
     ]
    }
   ],
   "source": [
    "# Creating a Dictionary \n",
    "# with Integer Keys \n",
    "Dict = {1: 'python', 2: 'data', 3: 'science'} \n",
    "print(\"Dictionary with the use of Integer Keys: \") \n",
    "print(Dict) \n",
    "\n",
    "# Creating a Dictionary \n",
    "# with Mixed keys \n",
    "Dict = {'Name': 'Geeks', 1: [1, 2, 3, 4]} \n",
    "print(\"Dictionary with the use of Mixed Keys: \") \n",
    "print(Dict)"
   ]
  },
  {
   "cell_type": "code",
   "execution_count": null,
   "metadata": {},
   "outputs": [],
   "source": []
  }
 ],
 "metadata": {
  "kernelspec": {
   "display_name": "Python 3",
   "language": "python",
   "name": "python3"
  },
  "language_info": {
   "codemirror_mode": {
    "name": "ipython",
    "version": 3
   },
   "file_extension": ".py",
   "mimetype": "text/x-python",
   "name": "python",
   "nbconvert_exporter": "python",
   "pygments_lexer": "ipython3",
   "version": "3.6.9"
  }
 },
 "nbformat": 4,
 "nbformat_minor": 2
}
