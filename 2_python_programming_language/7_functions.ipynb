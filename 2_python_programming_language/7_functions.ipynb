{
 "cells": [
  {
   "cell_type": "markdown",
   "metadata": {},
   "source": [
    "`A function is a set of statements that take inputs, do some specific computation and produces output. The idea is to put some commonly or repeatedly done task together and make a function, so that instead of writing the same code again and again for different inputs, we can call the function`"
   ]
  },
  {
   "cell_type": "markdown",
   "metadata": {},
   "source": [
    "### functiom strucure in python\n",
    "\n",
    "![img](../images/func.png)"
   ]
  },
  {
   "cell_type": "code",
   "execution_count": 1,
   "metadata": {},
   "outputs": [
    {
     "name": "stdout",
     "output_type": "stream",
     "text": [
      "even\n",
      "odd\n"
     ]
    }
   ],
   "source": [
    "# A simple Python function to check \n",
    "# whether x is even or odd \n",
    "def evenOdd( x ): \n",
    "    if (x % 2 == 0): \n",
    "        print (\"even\")\n",
    "    else: \n",
    "        print (\"odd\")\n",
    "\n",
    "# Driver code\n",
    "# in function call , you type function name and send parameters to it inside () \n",
    "evenOdd(2)\n",
    "evenOdd(3)"
   ]
  },
  {
   "cell_type": "code",
   "execution_count": 6,
   "metadata": {},
   "outputs": [],
   "source": [
    "# another example to demonestrate functions usage in python\n",
    "# function to receive a list of integers and cube every item of it and return new list with cubes\n",
    "# for example [2,3,4] >>> out : [8,27,64]\n",
    "\n",
    "# first thing we define cube function\n",
    "\n",
    "def cube(n):\n",
    "    '''\n",
    "    return cube of x\n",
    "    for example input x >>> out x^3\n",
    "    '''\n",
    "    return n**3\n",
    "\n",
    "def cubelist(items):\n",
    "    '''\n",
    "    cube every item in list items and return new list\n",
    "    '''\n",
    "    if not isinstance(items, list): # note isinstance(objecct,type) is used to check if object is of specefic type or not\n",
    "        return 'only list is supported'\n",
    "    cube_new_list=[] # empty list\n",
    "    for item in items:\n",
    "        cube_new_list.append(cube(item))\n",
    "    return cube_new_list"
   ]
  },
  {
   "cell_type": "code",
   "execution_count": 7,
   "metadata": {},
   "outputs": [
    {
     "name": "stdout",
     "output_type": "stream",
     "text": [
      "only list is supported\n",
      "[8, 27, 64, 125]\n"
     ]
    }
   ],
   "source": [
    "mylist=[2,3,4,5]\n",
    "print(cubelist(100))\n",
    "print(cubelist(mylist))"
   ]
  },
  {
   "cell_type": "markdown",
   "metadata": {},
   "source": [
    "`Default arguments:\n",
    "A default argument is a parameter that assumes a default value if a value is not provided in the function call for that argument.The following example illustrates Default arguments`"
   ]
  },
  {
   "cell_type": "code",
   "execution_count": 8,
   "metadata": {},
   "outputs": [
    {
     "name": "stdout",
     "output_type": "stream",
     "text": [
      "x:  15\n",
      "y:  50\n"
     ]
    }
   ],
   "source": [
    "# Python program to demonstrate \n",
    "# default arguments \n",
    "def myFun(x, y=50): \n",
    "    print(\"x: \", x) \n",
    "    print(\"y: \", y) \n",
    "\n",
    "# Driver code (We call myFun() with only \n",
    "# argument) \n",
    "myFun(15)"
   ]
  },
  {
   "cell_type": "markdown",
   "metadata": {},
   "source": [
    "`Anonymous functions: In Python, anonymous function means that a function is without a name. As we already know that def keyword is used to define the normal functions and the lambda keyword is used to create anonymous functions`\n",
    "\n",
    "`Lambda definition does not include a “return” statement, it always contains an expression which is returned. We can also put a lambda definition anywhere a function is expected, and we don’t have to assign it to a variable at all. This is the simplicity of lambda functions`"
   ]
  },
  {
   "cell_type": "code",
   "execution_count": 10,
   "metadata": {},
   "outputs": [
    {
     "name": "stdout",
     "output_type": "stream",
     "text": [
      "343\n"
     ]
    }
   ],
   "source": [
    "# Python code to illustrate cube of a number \n",
    "# using labmda function \n",
    "\n",
    "cube = lambda x: x*x*x \n",
    "print(cube(7))"
   ]
  },
  {
   "cell_type": "markdown",
   "metadata": {},
   "source": [
    "`Lambda functions can be used along with built-in functions like filter(), map() and reduce().`"
   ]
  },
  {
   "cell_type": "code",
   "execution_count": 11,
   "metadata": {},
   "outputs": [
    {
     "name": "stdout",
     "output_type": "stream",
     "text": [
      "[5, 7, 97, 77, 23, 73, 61]\n"
     ]
    }
   ],
   "source": [
    "# Python code to illustrate \n",
    "# filter() with lambda() \n",
    "li = [5, 7, 22, 97, 54, 62, 77, 23, 73, 61] \n",
    "final_list = list(filter(lambda x: (x%2 != 0) , li)) # filter numbers from li if it is only even\n",
    "print(final_list)"
   ]
  },
  {
   "cell_type": "code",
   "execution_count": 12,
   "metadata": {},
   "outputs": [
    {
     "name": "stdout",
     "output_type": "stream",
     "text": [
      "[10, 14, 44, 194, 108, 124, 154, 46, 146, 122]\n"
     ]
    }
   ],
   "source": [
    "# Python code to illustrate\n",
    "# map() with lambda() \n",
    "# to get double of a list. \n",
    "li = [5, 7, 22, 97, 54, 62, 77, 23, 73, 61] \n",
    "final_list = list(map(lambda x: x*2 , li)) \n",
    "print(final_list) "
   ]
  }
 ],
 "metadata": {
  "kernelspec": {
   "display_name": "Python 3",
   "language": "python",
   "name": "python3"
  },
  "language_info": {
   "codemirror_mode": {
    "name": "ipython",
    "version": 3
   },
   "file_extension": ".py",
   "mimetype": "text/x-python",
   "name": "python",
   "nbconvert_exporter": "python",
   "pygments_lexer": "ipython3",
   "version": "3.6.9"
  }
 },
 "nbformat": 4,
 "nbformat_minor": 2
}
