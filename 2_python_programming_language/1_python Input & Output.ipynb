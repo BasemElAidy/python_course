{
 "cells": [
  {
   "cell_type": "markdown",
   "metadata": {},
   "source": [
    "## input and print"
   ]
  },
  {
   "cell_type": "code",
   "execution_count": 1,
   "metadata": {},
   "outputs": [
    {
     "name": "stdout",
     "output_type": "stream",
     "text": [
      "Enter your name: ahmed\n",
      "hello :) ahmed\n",
      "Enter your age: 40\n",
      "your age is : 40\n"
     ]
    }
   ],
   "source": [
    "# input fucnction used to get user input , returns string\n",
    "user_name = input(\"Enter your name: \") \n",
    "print(\"hello :) \"+user_name)\n",
    "user_age = input(\"Enter your age: \") \n",
    "print(\"your age is : \"+user_age)"
   ]
  },
  {
   "cell_type": "markdown",
   "metadata": {},
   "source": [
    "## print() function"
   ]
  },
  {
   "cell_type": "code",
   "execution_count": 2,
   "metadata": {},
   "outputs": [
    {
     "name": "stdout",
     "output_type": "stream",
     "text": [
      "a-b$c//s&"
     ]
    }
   ],
   "source": [
    "'''\n",
    "two optional params sep >>> to specifiy how to separate characters on the same line\n",
    "end >>> to specifiy new line charater\n",
    "'''\n",
    "print('a','b',sep='-',end='$')\n",
    "print('c','s',sep='//',end='&')"
   ]
  }
 ],
 "metadata": {
  "kernelspec": {
   "display_name": "Python 3",
   "language": "python",
   "name": "python3"
  },
  "language_info": {
   "codemirror_mode": {
    "name": "ipython",
    "version": 3
   },
   "file_extension": ".py",
   "mimetype": "text/x-python",
   "name": "python",
   "nbconvert_exporter": "python",
   "pygments_lexer": "ipython3",
   "version": "3.6.9"
  }
 },
 "nbformat": 4,
 "nbformat_minor": 2
}
