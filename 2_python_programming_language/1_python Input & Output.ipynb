{
 "cells": [
  {
   "cell_type": "markdown",
   "metadata": {},
   "source": [
    "## input and print"
   ]
  },
  {
   "cell_type": "code",
   "execution_count": 4,
   "metadata": {},
   "outputs": [
    {
     "name": "stdout",
     "output_type": "stream",
     "text": [
      "Enter your name: mohamed\n",
      "hello :) mohamed type of input <class 'str'>\n",
      "Enter your age: jfksjd\n",
      "your age is jfksjd type of input <class 'str'>\n"
     ]
    }
   ],
   "source": [
    "# input fucnction used to get user input , returns string\n",
    "user_name = input(\"Enter your name: \") \n",
    "print(\"hello :) {} type of input {}\".format(user_name,type(user_name)))\n",
    "user_age = input(\"Enter your age: \") \n",
    "print(\"your age is {} type of input {}\".format(user_age,type(user_age)))"
   ]
  },
  {
   "cell_type": "code",
   "execution_count": 14,
   "metadata": {},
   "outputs": [
    {
     "name": "stdout",
     "output_type": "stream",
     "text": [
      "<class 'int'>\n",
      "1100\n"
     ]
    }
   ],
   "source": [
    "x=100\n",
    "print(type(x))\n",
    "print(x+1000)"
   ]
  },
  {
   "cell_type": "markdown",
   "metadata": {},
   "source": [
    "## Taking multiple inputs from user in Python"
   ]
  },
  {
   "cell_type": "code",
   "execution_count": 22,
   "metadata": {},
   "outputs": [
    {
     "name": "stdout",
     "output_type": "stream",
     "text": [
      "enter many numbers as you can , seprated by space\n",
      "1 2 3\n",
      "you entered [1, 2, 3]\n",
      "enter many numbers as you can , seprated by ,\n",
      "1,2,300\n",
      "you entered [1, 2, 300]\n",
      "enter many numbers as you can , seprated by *\n",
      "100*0*9\n",
      "you entered [100, 0, 9]\n"
     ]
    }
   ],
   "source": [
    "print(\"enter many numbers as you can , seprated by space\")\n",
    "input_stream=[int(x) for x in input().split()] # list comprehension\n",
    "print(\"you entered {}\".format([number for number in input_stream]))\n",
    "print(\"enter many numbers as you can , seprated by ,\")\n",
    "input_stream=[int(x) for x in input().split(',')] # list comprehension\n",
    "print(\"you entered {}\".format([number for number in input_stream]))\n",
    "print(\"enter many numbers as you can , seprated by *\")\n",
    "input_stream=[int(x) for x in input().split('*')] # list comprehension\n",
    "print(\"you entered {}\".format([number for number in input_stream]))"
   ]
  },
  {
   "cell_type": "code",
   "execution_count": 21,
   "metadata": {},
   "outputs": [
    {
     "name": "stdout",
     "output_type": "stream",
     "text": [
      "1 2 3\n",
      "[1, 2, 3]\n"
     ]
    }
   ],
   "source": [
    "x=input().split()\n",
    "y=[int(i) for i in x]\n",
    "print(y)"
   ]
  },
  {
   "cell_type": "code",
   "execution_count": 17,
   "metadata": {},
   "outputs": [
    {
     "name": "stdout",
     "output_type": "stream",
     "text": [
      "1 3 7\n",
      "['1', '3', '7']\n"
     ]
    }
   ],
   "source": [
    "print(input().split())"
   ]
  },
  {
   "cell_type": "code",
   "execution_count": 24,
   "metadata": {},
   "outputs": [
    {
     "ename": "ValueError",
     "evalue": "invalid literal for int() with base 10: '50%'",
     "output_type": "error",
     "traceback": [
      "\u001b[0;31m---------------------------------------------------------------------------\u001b[0m",
      "\u001b[0;31mValueError\u001b[0m                                Traceback (most recent call last)",
      "\u001b[0;32m<ipython-input-24-bfc406d0da28>\u001b[0m in \u001b[0;36m<module>\u001b[0;34m()\u001b[0m\n\u001b[0;32m----> 1\u001b[0;31m \u001b[0mint\u001b[0m\u001b[0;34m(\u001b[0m\u001b[0;34m'50%'\u001b[0m\u001b[0;34m)\u001b[0m\u001b[0;34m\u001b[0m\u001b[0;34m\u001b[0m\u001b[0m\n\u001b[0m",
      "\u001b[0;31mValueError\u001b[0m: invalid literal for int() with base 10: '50%'"
     ]
    }
   ],
   "source": [
    "int('50%')"
   ]
  },
  {
   "cell_type": "markdown",
   "metadata": {},
   "source": [
    "## print() function"
   ]
  },
  {
   "cell_type": "code",
   "execution_count": 8,
   "metadata": {},
   "outputs": [
    {
     "name": "stdout",
     "output_type": "stream",
     "text": [
      "a/b$c//s&"
     ]
    }
   ],
   "source": [
    "'''\n",
    "two optional params sep >>> to specifiy how to separate characters on the same line\n",
    "end >>> to specifiy new line charater\n",
    "'''\n",
    "print('a','b',sep='/',end='$')\n",
    "print('c','s',sep='//',end='&')"
   ]
  }
 ],
 "metadata": {
  "kernelspec": {
   "display_name": "Python 3",
   "language": "python",
   "name": "python3"
  },
  "language_info": {
   "codemirror_mode": {
    "name": "ipython",
    "version": 3
   },
   "file_extension": ".py",
   "mimetype": "text/x-python",
   "name": "python",
   "nbconvert_exporter": "python",
   "pygments_lexer": "ipython3",
   "version": "3.6.9"
  }
 },
 "nbformat": 4,
 "nbformat_minor": 2
}
