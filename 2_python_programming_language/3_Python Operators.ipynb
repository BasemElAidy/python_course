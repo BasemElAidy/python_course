{
 "cells": [
  {
   "cell_type": "markdown",
   "metadata": {},
   "source": [
    "## Arithmetic operators"
   ]
  },
  {
   "cell_type": "code",
   "execution_count": 1,
   "metadata": {},
   "outputs": [
    {
     "name": "stdout",
     "output_type": "stream",
     "text": [
      "13\n",
      "5\n",
      "36\n",
      "2.25\n",
      "2\n",
      "1\n"
     ]
    }
   ],
   "source": [
    "# Examples of Arithmetic Operator \n",
    "a = 9\n",
    "b = 4\n",
    "\n",
    "# Addition of numbers \n",
    "add = a + b \n",
    "# Subtraction of numbers \n",
    "sub = a - b \n",
    "# Multiplication of number \n",
    "mul = a * b \n",
    "# Division(float) of number \n",
    "div1 = a / b \n",
    "# Division(floor) of number \n",
    "div2 = a // b \n",
    "# Modulo of both number \n",
    "mod = a % b \n",
    "\n",
    "# print results \n",
    "print(add) \n",
    "print(sub) \n",
    "print(mul) \n",
    "print(div1) \n",
    "print(div2) \n",
    "print(mod)"
   ]
  },
  {
   "cell_type": "markdown",
   "metadata": {},
   "source": [
    "## Relational Operators"
   ]
  },
  {
   "cell_type": "code",
   "execution_count": 3,
   "metadata": {},
   "outputs": [
    {
     "name": "stdout",
     "output_type": "stream",
     "text": [
      "False\n",
      "True\n",
      "False\n",
      "True\n",
      "False\n",
      "True\n"
     ]
    }
   ],
   "source": [
    "# Examples of Relational Operators \n",
    "a = 13\n",
    "b = 33\n",
    "\n",
    "# a > b is False \n",
    "print(a > b) \n",
    "\n",
    "# a < b is True \n",
    "print(a < b) \n",
    "\n",
    "# a == b is False \n",
    "print(a == b) \n",
    "\n",
    "# a != b is True \n",
    "print(a != b) \n",
    "\n",
    "# a >= b is False \n",
    "print(a >= b) \n",
    "\n",
    "# a <= b is True \n",
    "print(a <= b) "
   ]
  },
  {
   "cell_type": "markdown",
   "metadata": {},
   "source": [
    "## Logical operators"
   ]
  },
  {
   "cell_type": "code",
   "execution_count": 3,
   "metadata": {},
   "outputs": [
    {
     "name": "stdout",
     "output_type": "stream",
     "text": [
      "False\n",
      "True\n",
      "False\n"
     ]
    }
   ],
   "source": [
    "# Examples of Logical Operator \n",
    "a = True\n",
    "b = False\n",
    "\n",
    "# Print a and b is False \n",
    "print(a and b) \n",
    "\n",
    "# Print a or b is True \n",
    "print(a or b) \n",
    "\n",
    "# Print not a is False \n",
    "print(not a) "
   ]
  },
  {
   "cell_type": "markdown",
   "metadata": {},
   "source": [
    "## Special operators"
   ]
  },
  {
   "cell_type": "markdown",
   "metadata": {},
   "source": [
    "* Membership operators"
   ]
  },
  {
   "cell_type": "code",
   "execution_count": 1,
   "metadata": {},
   "outputs": [
    {
     "name": "stdout",
     "output_type": "stream",
     "text": [
      "True\n",
      "True\n",
      "False\n",
      "True\n",
      "False\n"
     ]
    }
   ],
   "source": [
    "# Examples of Membership operator \n",
    "x = 'hello world'\n",
    "y = [1,2,3,4]\n",
    "\n",
    "\n",
    "print('w' in x) \n",
    "\n",
    "print('ee' not in x) \n",
    "\n",
    "print('ll' not in x) \n",
    "\n",
    "print(3 in y) \n",
    "\n",
    "print('b' in y) "
   ]
  },
  {
   "cell_type": "markdown",
   "metadata": {},
   "source": [
    "## Any & All in Python"
   ]
  },
  {
   "cell_type": "code",
   "execution_count": 12,
   "metadata": {},
   "outputs": [
    {
     "name": "stdout",
     "output_type": "stream",
     "text": [
      "False\n",
      "True\n"
     ]
    }
   ],
   "source": [
    "# Any : Returns true if any of the items is True \n",
    "\n",
    "# Since all are false, false is returned \n",
    "print (any([not True, False, 7>10]))\n",
    "\n",
    "# Here the method will short-circuit at the \n",
    "# second item (True) and will return True. \n",
    "print (any([False, True, 8<2])) "
   ]
  },
  {
   "cell_type": "code",
   "execution_count": 15,
   "metadata": {},
   "outputs": [
    {
     "name": "stdout",
     "output_type": "stream",
     "text": [
      "False\n",
      "True\n"
     ]
    }
   ],
   "source": [
    "# All : Returns true if all of the items are True\n",
    "print (all([not True, False, 7>10]))\n",
    "print (all([not False, True, 8>=2]))"
   ]
  }
 ],
 "metadata": {
  "kernelspec": {
   "display_name": "Python 3",
   "language": "python",
   "name": "python3"
  },
  "language_info": {
   "codemirror_mode": {
    "name": "ipython",
    "version": 3
   },
   "file_extension": ".py",
   "mimetype": "text/x-python",
   "name": "python",
   "nbconvert_exporter": "python",
   "pygments_lexer": "ipython3",
   "version": "3.6.9"
  }
 },
 "nbformat": 4,
 "nbformat_minor": 2
}
